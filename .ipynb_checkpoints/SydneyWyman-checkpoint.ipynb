{
 "cells": [
  {
   "cell_type": "markdown",
   "metadata": {},
   "source": [
    "# **Parks**\n",
    "\n",
    "### **Project Goal**\n",
    "Here I will look at the number of parks across the City of Pittsburgh. I will then create a data-driven argument to present the best neghborhood based on the highest number of parks.\n",
    "\n",
    "### **Why Parks?**\n"
   ]
  },
  {
   "cell_type": "code",
   "execution_count": 2,
   "metadata": {},
   "outputs": [],
   "source": [
    "import pandas as pd"
   ]
  },
  {
   "cell_type": "code",
   "execution_count": 6,
   "metadata": {},
   "outputs": [
    {
     "name": "stdout",
     "output_type": "stream",
     "text": [
      "East Liberty                 12\n",
      "Central Business District    10\n",
      "Beechview                     8\n",
      "South Side Slopes             7\n",
      "Point Breeze                  7\n",
      "                             ..\n",
      "Hays                          1\n",
      "Arlington                     1\n",
      "Stanton Heights               1\n",
      "Morningside                   1\n",
      "Squirrel Hill North           1\n",
      "Name: neighborhood, Length: 73, dtype: int64\n"
     ]
    }
   ],
   "source": [
    "park_df = pd.read_csv(\"parks.csv\")\n",
    "park_count = park_df['neighborhood'].value_counts()\n",
    "park_count_df = park_count.reset_index()\n",
    "park_count_df.columns = ['Neighborhood', 'Park_Count']\n",
    "print(park_count)"
   ]
  },
  {
   "cell_type": "code",
   "execution_count": null,
   "metadata": {},
   "outputs": [],
   "source": []
  }
 ],
 "metadata": {
  "kernelspec": {
   "display_name": "Python 3",
   "language": "python",
   "name": "python3"
  },
  "language_info": {
   "codemirror_mode": {
    "name": "ipython",
    "version": 3
   },
   "file_extension": ".py",
   "mimetype": "text/x-python",
   "name": "python",
   "nbconvert_exporter": "python",
   "pygments_lexer": "ipython3",
   "version": "3.8.3"
  }
 },
 "nbformat": 4,
 "nbformat_minor": 4
}
