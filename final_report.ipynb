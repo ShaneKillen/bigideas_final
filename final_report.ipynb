{
 "cells": [
  {
   "cell_type": "code",
   "execution_count": 31,
   "metadata": {},
   "outputs": [],
   "source": [
    "import pandas as pd\n",
    "import matplotlib.pyplot as plt\n"
   ]
  },
  {
   "cell_type": "code",
   "execution_count": 32,
   "metadata": {},
   "outputs": [],
   "source": [
    "%matplotlib inline"
   ]
  },
  {
   "cell_type": "code",
   "execution_count": null,
   "metadata": {},
   "outputs": [],
   "source": []
  },
  {
   "cell_type": "markdown",
   "metadata": {},
   "source": [
    "getting overarching metric"
   ]
  },
  {
   "cell_type": "code",
   "execution_count": 33,
   "metadata": {},
   "outputs": [],
   "source": [
    "# non-traffic citations\n",
    "citation_df = pd.read_csv(\"nontraffic_citations.csv\")\n",
    "citation_counts = citation_df['NEIGHBORHOOD'].value_counts()\n",
    "citation_counts_df = citation_counts.reset_index()\n",
    "citation_counts_df.columns = ['Neighborhood', 'Citation_Count']"
   ]
  },
  {
   "cell_type": "code",
   "execution_count": 34,
   "metadata": {},
   "outputs": [],
   "source": [
    "# police incidents\n",
    "crime = pd.read_csv(\"crime_rates.csv\")\n",
    "neighborhood = crime['INCIDENTNEIGHBORHOOD'].value_counts()\n",
    "crime_counts_df = neighborhood.reset_index()\n",
    "crime_counts_df.columns = ['Neighborhood','Incident_Count']"
   ]
  },
  {
   "cell_type": "code",
   "execution_count": 35,
   "metadata": {},
   "outputs": [],
   "source": [
    "# parks\n",
    "park_df = pd.read_csv(\"parks.csv\")\n",
    "park_count = park_df['neighborhood'].value_counts()\n",
    "park_count_df = park_count.reset_index()\n",
    "park_count_df.columns = ['Neighborhood', 'Park_Count']\n"
   ]
  },
  {
   "cell_type": "code",
   "execution_count": 36,
   "metadata": {},
   "outputs": [],
   "source": [
    "merge_dfs = pd.merge(citation_counts_df, crime_counts_df, on='Neighborhood')\n",
    "metrics_df = pd.merge(merge_dfs,park_count_df, on='Neighborhood')\n"
   ]
  },
  {
   "cell_type": "code",
   "execution_count": null,
   "metadata": {},
   "outputs": [],
   "source": [
    "#normalize data\n",
    "citations = metrics_df['Citation_Count']\n",
    "metrics_df['Citation_Count'] = (citations - citations.min()) / (citations.max() - citations.min())\n",
    "\n",
    "incidents = metrics_df['Incident_Count']\n",
    "metrics_df['Incident_Count'] = (incidents - incidents.min()) / (incidents.max() - incidents.min())\n",
    "\n",
    "parks = metrics_df['Park_Count']\n",
    "metrics_df['Park_Count'] = (parks - parks.min()) / (parks.max() - parks.min())\n",
    "\n",
    "print(metrics_df)"
   ]
  },
  {
   "cell_type": "code",
   "execution_count": null,
   "metadata": {},
   "outputs": [],
   "source": [
    "# Rank neighborhoods, citations and incidents lower is better, parks higher is better\n",
    "metrics_df['Citation_Rank'] = metrics_df['Citation_Count'].rank(ascending=True)\n",
    "metrics_df['Incident_Rank'] = metrics_df['Incident_Count'].rank(ascending=True)\n",
    "metrics_df['Park_Rank'] = metrics_df['Park_Count'].rank(ascending=False)\n",
    "\n",
    "print(metrics_df)\n"
   ]
  },
  {
   "cell_type": "code",
   "execution_count": null,
   "metadata": {},
   "outputs": [],
   "source": [
    "#avg ranks\n",
    "metrics_df[\"Avg_rank\"] = metrics_df[['Citation_Rank', 'Incident_Rank', 'Park_Rank']].mean(axis=1)\n",
    "print(metrics_df)"
   ]
  },
  {
   "cell_type": "code",
   "execution_count": 44,
   "metadata": {},
   "outputs": [
    {
     "name": "stdout",
     "output_type": "stream",
     "text": [
      "           Neighborhood  Citation_Count  Incident_Count  Park_Count  \\\n",
      "71       Swisshelm Park        0.000000        0.004473    0.181818   \n",
      "66        Spring Garden        0.001176        0.030419    0.090909   \n",
      "63          Polish Hill        0.003527        0.038103    0.090909   \n",
      "53  Upper Lawrenceville        0.008230        0.068154    0.181818   \n",
      "51             Westwood        0.008818        0.066575    0.181818   \n",
      "..                  ...             ...             ...         ...   \n",
      "4               Carrick        0.128748        0.596337    0.181818   \n",
      "12       Homewood North        0.059083        0.322667    0.090909   \n",
      "22           East Hills        0.042916        0.242829    0.000000   \n",
      "13        North Oakland        0.056143        0.225514    0.000000   \n",
      "11       Homewood South        0.064374        0.359718    0.000000   \n",
      "\n",
      "    Citation_Rank  Incident_Rank  Park_Rank   Avg_rank  \n",
      "71            1.0            3.0       25.0   9.666667  \n",
      "66            6.0           10.0       41.5  19.166667  \n",
      "63            9.0           11.0       41.5  20.500000  \n",
      "53           19.0           18.0       25.0  20.666667  \n",
      "51           21.0           17.0       25.0  21.000000  \n",
      "..            ...            ...        ...        ...  \n",
      "4            68.0           70.0       25.0  54.333333  \n",
      "12           60.0           62.0       41.5  54.500000  \n",
      "22           50.0           54.0       61.0  55.000000  \n",
      "13           59.0           52.0       61.0  57.333333  \n",
      "11           61.0           64.0       61.0  62.000000  \n",
      "\n",
      "[72 rows x 8 columns]\n"
     ]
    }
   ],
   "source": [
    "best_neighborhood = metrics_df.sort_values(by='Avg_rank')\n",
    "print(best_neighborhood)"
   ]
  }
 ],
 "metadata": {
  "kernelspec": {
   "display_name": "base",
   "language": "python",
   "name": "python3"
  },
  "language_info": {
   "codemirror_mode": {
    "name": "ipython",
    "version": 3
   },
   "file_extension": ".py",
   "mimetype": "text/x-python",
   "name": "python",
   "nbconvert_exporter": "python",
   "pygments_lexer": "ipython3",
   "version": "3.11.4"
  }
 },
 "nbformat": 4,
 "nbformat_minor": 2
}
